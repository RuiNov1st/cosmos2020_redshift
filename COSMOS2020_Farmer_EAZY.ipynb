{
 "cells": [
  {
   "cell_type": "markdown",
   "id": "17b61de4-7523-4f25-81e5-cd3079ba3554",
   "metadata": {},
   "source": [
    "# COSMOS2020 Photometric Redshifts estimation with EAZY\n",
    "\n",
    "Shirui Wei\n",
    "\n",
    "* **Data prepation**: prepare files with specific format for EAZY, including input catalog, parameters file, template files, filter files and translate files."
   ]
  },
  {
   "cell_type": "code",
   "execution_count": 3,
   "id": "e20463d5-b75c-4556-91d1-49587af68655",
   "metadata": {},
   "outputs": [
    {
     "name": "stdout",
     "output_type": "stream",
     "text": [
      "Failed to `import dust_attenuation`\n",
      "Install my fork with $ pip install git+https://github.com/gbrammer/dust_attenuation.git\n"
     ]
    }
   ],
   "source": [
    "from astropy.io import fits\n",
    "from astropy.io import fits,ascii,votable\n",
    "from astropy import units as u \n",
    "from astropy import constants as const\n",
    "from astropy import table\n",
    "import eazy\n",
    "import os\n",
    "import sys\n",
    "import numpy as np\n",
    "from tqdm import tqdm"
   ]
  },
  {
   "cell_type": "markdown",
   "id": "06aef596-3394-496e-ad0d-71dc96d72217",
   "metadata": {},
   "source": [
    "## Data Prepation"
   ]
  },
  {
   "cell_type": "markdown",
   "id": "a104bc92-5c9c-468e-800c-088284b4fa87",
   "metadata": {},
   "source": [
    "### Input Catalog\n",
    "process NaN\n",
    "\n",
    "Only select some columns, including ID, RA, DEC, some filters and photo-z(Weaver et al 2022 for validation)."
   ]
  },
  {
   "cell_type": "code",
   "execution_count": 4,
   "id": "a8932a63-8da7-420c-933e-aa488640fc41",
   "metadata": {},
   "outputs": [],
   "source": [
    "catversion = 'Farmer'\n",
    "fitversion = 'ez' \n",
    "flx = '_FLUX'  \n",
    "flxerr = '_FLUXERR'  # catalog column for flux/mag error, just add 'ERR'\n",
    "outflx = 'cgs' # 'cgs' or 'uJy'\n",
    "catalog_raw_file = '/data/home/wsr/WorkSpace/EAZY/cosmos2020-readcat/COSMOS2020_Farmer_EAZY/COSMOS2020_Farmer_processed_0111.fits'"
   ]
  },
  {
   "cell_type": "code",
   "execution_count": 5,
   "id": "d97dc536-b945-4b2d-9073-aebbfc3753f4",
   "metadata": {},
   "outputs": [
    {
     "name": "stdout",
     "output_type": "stream",
     "text": [
      "Filename: /data/home/wsr/WorkSpace/EAZY/cosmos2020-readcat/COSMOS2020_Farmer_EAZY/COSMOS2020_Farmer_processed_0111.fits\n",
      "No.    Name      Ver    Type      Cards   Dimensions   Format\n",
      "  0  PRIMARY       1 PrimaryHDU       4   ()      \n",
      "  1  PHASE3CATALOG    1 BinTableHDU   1144   746976R x 105C   [K, D, D, D, D, D, D, D, D, D, D, D, D, D, D, D, D, D, D, D, D, D, D, D, D, D, D, D, D, D, D, D, D, D, D, D, D, D, D, D, D, D, D, D, D, D, D, D, D, D, D, D, D, D, D, D, D, D, D, D, D, D, D, E, E, E, E, E, E, E, E, E, E, E, E, D, D, D, D, D, D, D, D, D, D, D, D, D, D, D, D, D, D, D, D, D, D, D, D, D, D, D, D, D, D]   \n"
     ]
    }
   ],
   "source": [
    "with fits.open(catalog_raw_file) as cat_hdu:\n",
    "    cat_hdu.info()\n",
    "    cat_data = cat_hdu[1].data\n",
    "    cat_header = cat_hdu[1].columns.names"
   ]
  },
  {
   "cell_type": "code",
   "execution_count": 6,
   "id": "11b9cba5-62bb-4a2c-a6e3-2eeb5bbbbd09",
   "metadata": {},
   "outputs": [],
   "source": [
    "# remove data whose photo-z is nan:\n",
    "cat_data = cat_data[~np.isnan(cat_data['photoz'])]\n",
    "# fill nan with a Negative value:\n",
    "NOT_OBS_THRESHOLD = -90\n",
    "for k in cat_header:\n",
    "    # only correct flux and fluxerr\n",
    "    if k.endswith(flxerr) or k.endswith(flx):\n",
    "        cat_data[k] = np.nan_to_num(cat_data[k],nan=NOT_OBS_THRESHOLD)"
   ]
  },
  {
   "cell_type": "code",
   "execution_count": 7,
   "id": "fd7e95e8-e0dc-4baf-9114-7e7513aeda9d",
   "metadata": {},
   "outputs": [
    {
     "data": {
      "text/plain": [
       "671190"
      ]
     },
     "execution_count": 7,
     "metadata": {},
     "output_type": "execute_result"
    }
   ],
   "source": [
    "len(cat_data)"
   ]
  },
  {
   "cell_type": "code",
   "execution_count": 42,
   "id": "b0c1e758-3443-4a1c-9214-c64962571d4c",
   "metadata": {},
   "outputs": [],
   "source": [
    "# select specific columns:\n",
    "filt_use = ['HSC_g', 'HSC_r', 'HSC_i', 'HSC_z', 'HSC_y', 'UVISTA_Y', 'UVISTA_J', 'UVISTA_H', 'UVISTA_Ks', 'IRAC_CH1', 'IRAC_CH2']\n",
    "keep_columns = ['ID','RA','DEC']\n",
    "for i in filt_use:\n",
    "    keep_columns.append(i+flx)\n",
    "    keep_columns.append(i+flxerr)\n",
    "keep_columns.append('photoz')\n",
    "keep_columns_idx = [cat_header.index(i) for i in keep_columns]"
   ]
  },
  {
   "cell_type": "code",
   "execution_count": 51,
   "id": "bcc2a657-5383-4838-9ff2-298384591220",
   "metadata": {},
   "outputs": [],
   "source": [
    "cat_data_new = cat_data.columns[0:3]\n",
    "for i in keep_columns_idx[3:]:\n",
    "    cat_data_new=cat_data_new+cat_data.columns[i]"
   ]
  },
  {
   "cell_type": "code",
   "execution_count": 52,
   "id": "4c224c37-5afd-411f-80c1-f61fc568380a",
   "metadata": {},
   "outputs": [
    {
     "data": {
      "text/plain": [
       "ColDefs(\n",
       "    name = 'ID'; format = 'K'; null = -99\n",
       "    name = 'RA'; format = 'D'; unit = 'deg'\n",
       "    name = 'DEC'; format = 'D'; unit = 'deg'\n",
       "    name = 'HSC_g_FLUX'; format = 'D'; unit = 'erg Hz-1 s-1 cm-2'\n",
       "    name = 'HSC_g_FLUXERR'; format = 'D'; unit = 'erg Hz-1 s-1 cm-2'\n",
       "    name = 'HSC_r_FLUX'; format = 'D'; unit = 'erg Hz-1 s-1 cm-2'\n",
       "    name = 'HSC_r_FLUXERR'; format = 'D'; unit = 'erg Hz-1 s-1 cm-2'\n",
       "    name = 'HSC_i_FLUX'; format = 'D'; unit = 'erg Hz-1 s-1 cm-2'\n",
       "    name = 'HSC_i_FLUXERR'; format = 'D'; unit = 'erg Hz-1 s-1 cm-2'\n",
       "    name = 'HSC_z_FLUX'; format = 'D'; unit = 'erg Hz-1 s-1 cm-2'\n",
       "    name = 'HSC_z_FLUXERR'; format = 'D'; unit = 'erg Hz-1 s-1 cm-2'\n",
       "    name = 'HSC_y_FLUX'; format = 'D'; unit = 'erg Hz-1 s-1 cm-2'\n",
       "    name = 'HSC_y_FLUXERR'; format = 'D'; unit = 'erg Hz-1 s-1 cm-2'\n",
       "    name = 'UVISTA_Y_FLUX'; format = 'D'; unit = 'erg Hz-1 s-1 cm-2'\n",
       "    name = 'UVISTA_Y_FLUXERR'; format = 'D'; unit = 'erg Hz-1 s-1 cm-2'\n",
       "    name = 'UVISTA_J_FLUX'; format = 'D'; unit = 'erg Hz-1 s-1 cm-2'\n",
       "    name = 'UVISTA_J_FLUXERR'; format = 'D'; unit = 'erg Hz-1 s-1 cm-2'\n",
       "    name = 'UVISTA_H_FLUX'; format = 'D'; unit = 'erg Hz-1 s-1 cm-2'\n",
       "    name = 'UVISTA_H_FLUXERR'; format = 'D'; unit = 'erg Hz-1 s-1 cm-2'\n",
       "    name = 'UVISTA_Ks_FLUX'; format = 'D'; unit = 'erg Hz-1 s-1 cm-2'\n",
       "    name = 'UVISTA_Ks_FLUXERR'; format = 'D'; unit = 'erg Hz-1 s-1 cm-2'\n",
       "    name = 'IRAC_CH1_FLUX'; format = 'D'; unit = 'erg Hz-1 s-1 cm-2'\n",
       "    name = 'IRAC_CH1_FLUXERR'; format = 'D'; unit = 'erg Hz-1 s-1 cm-2'\n",
       "    name = 'IRAC_CH2_FLUX'; format = 'D'; unit = 'erg Hz-1 s-1 cm-2'\n",
       "    name = 'IRAC_CH2_FLUXERR'; format = 'D'; unit = 'erg Hz-1 s-1 cm-2'\n",
       "    name = 'photoz'; format = 'E'\n",
       ")"
      ]
     },
     "execution_count": 52,
     "metadata": {},
     "output_type": "execute_result"
    }
   ],
   "source": [
    "cat_data_new"
   ]
  },
  {
   "cell_type": "code",
   "execution_count": 60,
   "id": "87dd59c2-cad3-46ba-b249-bb5c6246b091",
   "metadata": {},
   "outputs": [],
   "source": [
    "# write to catalog:\n",
    "cat_hdu_new = fits.BinTableHDU.from_columns(cat_data_new)\n",
    "cat_hdu_new.writeto('/data/home/wsr/WorkSpace/EAZY/cosmos2020-readcat/COSMOS2020_Farmer_EAZY/catalog_0111.fits')"
   ]
  },
  {
   "cell_type": "markdown",
   "id": "a1bf2d90-40d7-4705-956e-75491e47dbb3",
   "metadata": {},
   "source": [
    "### Translate file\n",
    "match filters used in COSMOS2020 with EAZY FILTER.RES.latest.info\n",
    "\n",
    "rename columns to meet EAZY'requirements."
   ]
  },
  {
   "cell_type": "code",
   "execution_count": 66,
   "id": "466191c6-f559-4b87-a91d-dbcbf147d396",
   "metadata": {},
   "outputs": [],
   "source": [
    "# fiter和EAZY filter res对应关系\n",
    "cosmos_eazy_filter = {}\n",
    "cosmos_eazy_filter['HSC_g'] = 314\n",
    "cosmos_eazy_filter['HSC_r'] = 315\n",
    "cosmos_eazy_filter['HSC_i'] = 316\n",
    "cosmos_eazy_filter['HSC_z'] = 317\n",
    "cosmos_eazy_filter['HSC_y'] = 318\n",
    "cosmos_eazy_filter['UVISTA_Y']=256\n",
    "cosmos_eazy_filter['UVISTA_J']=257\n",
    "cosmos_eazy_filter['UVISTA_H']=258\n",
    "cosmos_eazy_filter['UVISTA_Ks']=259\n",
    "cosmos_eazy_filter['IRAC_CH1'] = 18\n",
    "cosmos_eazy_filter['IRAC_CH2'] = 19"
   ]
  },
  {
   "cell_type": "code",
   "execution_count": 68,
   "id": "4c457aed-f848-4b99-9ef9-dbe900422f40",
   "metadata": {},
   "outputs": [],
   "source": [
    "# translate file:\n",
    "with open('/data/home/wsr/WorkSpace/EAZY/cosmos2020-readcat/COSMOS2020_Farmer_EAZY/cosmos2020.translate','w') as trans_file:\n",
    "    for key in cat_hdu_new.columns.names:\n",
    "        if key in ['ID','RA','DEC']:\n",
    "            trans = key.lower()\n",
    "        elif key == 'photoz':\n",
    "            trans = 'z_spec'\n",
    "        else:\n",
    "            if key.endswith(flxerr):\n",
    "                key_filter = key[:-8]\n",
    "                trans = 'E'+str(cosmos_eazy_filter[key_filter])\n",
    "            else:\n",
    "                key_filter = key[:-5]\n",
    "                trans = 'F'+str(cosmos_eazy_filter[key_filter])\n",
    "        trans_file.write(f'{key} {trans}\\n')"
   ]
  },
  {
   "cell_type": "markdown",
   "id": "f986d12f-0ebb-4da0-a11e-646c0b2ce62b",
   "metadata": {},
   "source": [
    "## Run EAZY"
   ]
  },
  {
   "cell_type": "code",
   "execution_count": 70,
   "id": "06529ca2-ad56-4512-907f-c9f5d39d99c5",
   "metadata": {},
   "outputs": [],
   "source": [
    "param_file ='/data/home/wsr/WorkSpace/EAZY/cosmos2020-readcat/COSMOS2020_Farmer_EAZY/cosmos2020.param.default'\n",
    "translate_file = '/data/home/wsr/WorkSpace/EAZY/cosmos2020-readcat/COSMOS2020_Farmer_EAZY/cosmos2020.translate'"
   ]
  },
  {
   "cell_type": "code",
   "execution_count": 74,
   "id": "7baf9a98-6edb-4974-88b9-efdc5c8eb63f",
   "metadata": {},
   "outputs": [
    {
     "name": "stdout",
     "output_type": "stream",
     "text": [
      "Read default param file: /data/home/wsr/WorkSpace/EAZY/cosmos2020-readcat/COSMOS2020_Farmer_EAZY/cosmos2020.param.default\n",
      "Read CATALOG_FILE: /data/home/wsr/WorkSpace/EAZY/cosmos2020-readcat/COSMOS2020_Farmer_EAZY/catalog_0111.fits\n",
      "   >>> NOBJ = 746976\n",
      "HSC_g_FLUX HSC_g_FLUXERR (314): g_HSC.txt\n",
      "HSC_r_FLUX HSC_r_FLUXERR (315): r_HSC.txt\n",
      "HSC_i_FLUX HSC_i_FLUXERR (316): i_HSC.txt\n",
      "HSC_z_FLUX HSC_z_FLUXERR (317): z_HSC.txt\n",
      "HSC_y_FLUX HSC_y_FLUXERR (318): y_HSC.txt\n",
      "UVISTA_Y_FLUX UVISTA_Y_FLUXERR (256): VISTA/Y_system+atmos.dat\n",
      "UVISTA_J_FLUX UVISTA_J_FLUXERR (257): VISTA/J_system+atmos.dat\n",
      "UVISTA_H_FLUX UVISTA_H_FLUXERR (258): VISTA/H_system+atmos.dat\n",
      "UVISTA_Ks_FLUX UVISTA_Ks_FLUXERR (259): VISTA/Ks_system+atmos.dat\n",
      "IRAC_CH1_FLUX IRAC_CH1_FLUXERR ( 18): IRAC/irac_tr1_2004-08-09.dat\n",
      "IRAC_CH2_FLUX IRAC_CH2_FLUXERR ( 19): IRAC/irac_tr2_2004-08-09.dat\n",
      "Set sys_err = 0.01 (positive=True)\n",
      "Template grid: /data/home/wsr/WorkSpace/EAZY/eazy-photoz/templates/fsps_full/tweak_fsps_QSF_12_v3.param (this may take some time)\n"
     ]
    },
    {
     "name": "stderr",
     "output_type": "stream",
     "text": [
      "100%|██████████| 12/12 [04:23<00:00, 21.96s/it]\n"
     ]
    },
    {
     "name": "stdout",
     "output_type": "stream",
     "text": [
      "Template   0: tweak_fsps_QSF_12_v3_001.dat (NZ=1).\n",
      "Template   1: tweak_fsps_QSF_12_v3_002.dat (NZ=1).\n",
      "Template   2: tweak_fsps_QSF_12_v3_003.dat (NZ=1).\n",
      "Template   3: tweak_fsps_QSF_12_v3_004.dat (NZ=1).\n",
      "Template   4: tweak_fsps_QSF_12_v3_005.dat (NZ=1).\n",
      "Template   5: tweak_fsps_QSF_12_v3_006.dat (NZ=1).\n",
      "Template   6: tweak_fsps_QSF_12_v3_007.dat (NZ=1).\n",
      "Template   7: tweak_fsps_QSF_12_v3_008.dat (NZ=1).\n",
      "Template   8: tweak_fsps_QSF_12_v3_009.dat (NZ=1).\n",
      "Template   9: tweak_fsps_QSF_12_v3_010.dat (NZ=1).\n",
      "Template  10: tweak_fsps_QSF_12_v3_011.dat (NZ=1).\n",
      "Template  11: tweak_fsps_QSF_12_v3_012.dat (NZ=1).\n",
      "Process templates: 265.280 s\n"
     ]
    },
    {
     "name": "stderr",
     "output_type": "stream",
     "text": [
      "256it [00:45,  5.63it/s]\n"
     ]
    }
   ],
   "source": [
    "# Run EAZY\n",
    "pz_obj = eazy.photoz.PhotoZ(param_file=param_file, translate_file=translate_file, zeropoint_file=None, \n",
    "                          params={}, load_prior=False, load_products=False)"
   ]
  },
  {
   "cell_type": "code",
   "execution_count": 81,
   "id": "d22571c1-5f44-41ee-ada3-fe0614304bad",
   "metadata": {},
   "outputs": [
    {
     "name": "stdout",
     "output_type": "stream",
     "text": [
      "Set sys_err = 0.01 (positive=True)\n"
     ]
    },
    {
     "name": "stderr",
     "output_type": "stream",
     "text": [
      "100%|██████████| 256/256 [16:50<00:00,  3.95s/it]\n"
     ]
    },
    {
     "name": "stdout",
     "output_type": "stream",
     "text": [
      "Compute best fits\n",
      "fit_best: 0.0 s (n_proc=1,  NOBJ=0)\n",
      "Fit 1016.1 s (n_proc=8, NOBJ=671190)\n"
     ]
    }
   ],
   "source": [
    "pz_obj.set_sys_err(positive=True)\n",
    "sample = np.isfinite(pz_obj.ZSPEC)\n",
    "pz_obj.fit_catalog(pz_obj.idx[sample], n_proc=8)"
   ]
  },
  {
   "cell_type": "code",
   "execution_count": 83,
   "id": "5cdc0152-1c03-4fa5-9575-ab0fed0c0a3e",
   "metadata": {},
   "outputs": [
    {
     "name": "stderr",
     "output_type": "stream",
     "text": [
      "/data/home/wsr/.conda/envs/COSMOS2020/lib/python3.10/site-packages/eazy/templates.py:104: RuntimeWarning: divide by zero encountered in divide\n",
      "  lcz = np.atleast_1d(self.filter_wavelengths)/(1+z)\n",
      "/data/home/wsr/.conda/envs/COSMOS2020/lib/python3.10/site-packages/eazy/templates.py:105: RuntimeWarning: divide by zero encountered in divide\n",
      "  tef_z = self._spline(np.atleast_1d(self.filter_wavelengths)/(1+z))\n",
      "/data/home/wsr/.conda/envs/COSMOS2020/lib/python3.10/site-packages/eazy/igm.py:193: RuntimeWarning: divide by zero encountered in scalar power\n",
      "  return a**b\n",
      "/data/home/wsr/.conda/envs/COSMOS2020/lib/python3.10/site-packages/eazy/photoz.py:2701: RuntimeWarning: divide by zero encountered in divide\n",
      "  flam_spec = utils.CLIGHT*1.e10/templz**2/1.e-19\n",
      "/data/home/wsr/.conda/envs/COSMOS2020/lib/python3.10/site-packages/eazy/photoz.py:2718: RuntimeWarning: invalid value encountered in multiply\n",
      "  templf=templf*fnu_factor*flam_spec,\n",
      "/data/home/wsr/.conda/envs/COSMOS2020/lib/python3.10/site-packages/eazy/photoz.py:2787: RuntimeWarning: invalid value encountered in multiply\n",
      "  pl = ax.plot(templz/1.e4, templf*fnu_factor*flam_spec, alpha=0.5,\n"
     ]
    },
    {
     "data": {
      "text/plain": [
       "(<Figure size 800x400 with 2 Axes>,\n",
       " OrderedDict([('ix', 56),\n",
       "              ('id', 100),\n",
       "              ('z', -1.0),\n",
       "              ('z_spec', 0.3945297),\n",
       "              ('pivot',\n",
       "               array([ 4797.34688472,  6148.51620499,  7603.45686736,  8901.92815402,\n",
       "                       9643.91553837, 10215.74297393, 12526.23491601, 16432.82008153,\n",
       "                      21503.4501456 , 35569.29566469, 45020.33785231])),\n",
       "              ('model',\n",
       "               array([nan, nan, nan, nan, nan, nan, nan, nan, nan, nan, nan])),\n",
       "              ('emodel', array([0., 0., 0., 0., 0., 0., 0., 0., 0., 0., 0.])),\n",
       "              ('fobs',\n",
       "               array([-468.22398052, -285.04619856, -186.39477078, -135.98397368,\n",
       "                      -115.86415568, -103.25616291,  -68.67754991,  -39.90540262,\n",
       "                       -23.30449008,   -8.51736712,   -5.316654  ])),\n",
       "              ('efobs',\n",
       "               array([-468.22398052, -285.04619856, -186.39477078, -135.98397368,\n",
       "                      -115.86415568, -103.25616291,  -68.67754991,  -39.90540262,\n",
       "                       -23.30449008,   -8.51736712,   -5.316654  ])),\n",
       "              ('valid',\n",
       "               array([False, False, False, False, False, False, False, False, False,\n",
       "                      False, False])),\n",
       "              ('tef',\n",
       "               array([0.06032734, 0.06032734, 0.06032734, 0.06032734, 0.06032734,\n",
       "                      0.06032734, 0.06032734, 0.06032734, 0.06032734, 0.06032734,\n",
       "                      0.06032734])),\n",
       "              ('templz', array([0., 0., 0., ..., 0., 0., 0.])),\n",
       "              ('templf', array([nan, nan, nan, ..., nan, nan, nan])),\n",
       "              ('show_fnu', 0),\n",
       "              ('flux_unit', <Quantity 1.e-19 erg / (Angstrom s cm2)>),\n",
       "              ('wave_unit', Unit(\"Angstrom\")),\n",
       "              ('chi2', inf),\n",
       "              ('coeffs',\n",
       "               array([0., 0., 0., 0., 0., 0., 0., 0., 0., 0., 0., 0.]))]))"
      ]
     },
     "execution_count": 83,
     "metadata": {},
     "output_type": "execute_result"
    },
    {
     "data": {
      "image/png": "[encoded data removed]",
      "text/plain": [
       "<Figure size 800x400 with 2 Axes>"
      ]
     },
     "metadata": {},
     "output_type": "display_data"
    }
   ],
   "source": [
    "pz_obj.show_fit(100)"
   ]
  }
 ],
 "metadata": {
  "kernelspec": {
   "display_name": "COSMOS2020",
   "language": "python",
   "name": "cosmos2020"
  },
  "language_info": {
   "codemirror_mode": {
    "name": "ipython",
    "version": 3
   },
   "file_extension": ".py",
   "mimetype": "text/x-python",
   "name": "python",
   "nbconvert_exporter": "python",
   "pygments_lexer": "ipython3",
   "version": "3.10.13"
  }
 },
 "nbformat": 4,
 "nbformat_minor": 5
}
